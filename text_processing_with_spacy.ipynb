{
 "cells": [
  {
   "cell_type": "code",
   "execution_count": 37,
   "id": "8a4f5c6c",
   "metadata": {},
   "outputs": [],
   "source": [
    "import json\n",
    "json_file=open(\"data.json\")\n",
    "data = json.load(json_file)\n",
    "\n",
    "nlp= spacy.load('en_core_web_sm')\n",
    "stopwords = nlp.Defaults.stop_words\n",
    "def cleaning_data(text):\n",
    "    text=text.lower()\n",
    "    doc = nlp(text)\n",
    "    tokens_list=[]\n",
    "    for token in doc:\n",
    "        tokens_list.append(token.lemma_)\n",
    "    newlist = [x for x in tokens_list if x not in stopwords]\n",
    "    return ' '.join(newlist)\n",
    " \n",
    "\n",
    "for dictionaire in data:\n",
    "    dictionaire[\"tokenized_text\"]=cleaning_data(dictionaire[\"text\"])\n",
    "\n",
    "with open('clean_data.json', 'w') as outfile:\n",
    "    json.dump(data, outfile)"
   ]
  }
 ],
 "metadata": {
  "kernelspec": {
   "display_name": "Python 3 (ipykernel)",
   "language": "python",
   "name": "python3"
  },
  "language_info": {
   "codemirror_mode": {
    "name": "ipython",
    "version": 3
   },
   "file_extension": ".py",
   "mimetype": "text/x-python",
   "name": "python",
   "nbconvert_exporter": "python",
   "pygments_lexer": "ipython3",
   "version": "3.8.12"
  }
 },
 "nbformat": 4,
 "nbformat_minor": 5
}
